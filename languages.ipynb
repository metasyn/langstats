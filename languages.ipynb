{
 "cells": [
  {
   "cell_type": "code",
   "execution_count": 38,
   "metadata": {
    "collapsed": true
   },
   "outputs": [],
   "source": [
    "#!/bin/python\n",
    "# xander johnson @metasyn\n",
    "# data from: http://www.ethnologue.com/statistics/size\n",
    "\n",
    "import json\n",
    "import re\n",
    "import pandas as pd\n",
    "import matplotlib.pyplot as plt\n",
    "\n",
    "% matplotlib inline\n",
    "\n",
    "# read in data\n",
    "with open('./ethnologue.txt', 'r') as f:\n",
    "\tdata = f.readlines()\n",
    "f.close()\n",
    "\n",
    "children = []\n",
    "for line in data[1:]:\n",
    "\tlang_dict={}\n",
    "\tsplits = line.split('(')\n",
    "\tlang_dict[\"name\"] = splits[0].strip()\n",
    "\tlang_dict[\"size\"] = splits[1][:-2]\n",
    "\tchildren.append(lang_dict)\n",
    "\n",
    "flare = {\n",
    "\t\"name\": \"flare\",\n",
    "\t\"children\": children\n",
    "}\n",
    "\n",
    "with open('numlangs.json', 'wb') as fp:\n",
    "\tjson.dump(flare, fp)\n",
    "\n",
    "with open('./stats.txt', 'r') as f:\n",
    "\tstats = f.readlines()\n",
    "f.close()\n",
    "\n",
    "regex = ur\"\"\"\n",
    "(?P<num>\\d+)?\n",
    "\\s+\n",
    "(?P<family>[a-z\\-A-Z]+)\n",
    "\\,?\\s\n",
    "(?P<variety>[^\\[]+\\s?)?\n",
    "\\s?\n",
    "(?:\\[)\n",
    "(?P<code>\\w+)\n",
    "(?:\\])\n",
    "\\t\n",
    "(?P<location>[a-zA-Z]+\\s?[a-zA-Z]+)\n",
    "\\t\n",
    "(?P<total_countries>\\d+)\n",
    "\\s+\n",
    "(?P<speakers>[\\d\\.\\,]+)\n",
    "\"\"\"\n",
    "\n",
    "main=[]\n",
    "for line in stats:\n",
    "\tstats_extract = re.findall(regex, line, re.X)\n",
    "\tmain.append(stats_extract[0])\n",
    "\n",
    "df = pd.DataFrame(main,columns=['num', 'family', 'variety', 'code', 'place', 'numCountries', 'speakers'])\n"
   ]
  },
  {
   "cell_type": "code",
   "execution_count": 9,
   "metadata": {
    "collapsed": false
   },
   "outputs": [
    {
     "data": {
      "text/html": [
       "<div style=\"max-height:1000px;max-width:1500px;overflow:auto;\">\n",
       "<table border=\"1\" class=\"dataframe\">\n",
       "  <thead>\n",
       "    <tr style=\"text-align: right;\">\n",
       "      <th></th>\n",
       "      <th>num</th>\n",
       "      <th>family</th>\n",
       "      <th>variety</th>\n",
       "      <th>code</th>\n",
       "      <th>place</th>\n",
       "      <th>numCountries</th>\n",
       "      <th>speakers</th>\n",
       "    </tr>\n",
       "  </thead>\n",
       "  <tbody>\n",
       "    <tr>\n",
       "      <th>0</th>\n",
       "      <td> 1</td>\n",
       "      <td> Chinese</td>\n",
       "      <td>         </td>\n",
       "      <td> zho</td>\n",
       "      <td> China</td>\n",
       "      <td> 33</td>\n",
       "      <td> 1,197</td>\n",
       "    </tr>\n",
       "    <tr>\n",
       "      <th>1</th>\n",
       "      <td>  </td>\n",
       "      <td> Chinese</td>\n",
       "      <td>     Gan </td>\n",
       "      <td> gan</td>\n",
       "      <td> China</td>\n",
       "      <td>  1</td>\n",
       "      <td>  20.6</td>\n",
       "    </tr>\n",
       "    <tr>\n",
       "      <th>2</th>\n",
       "      <td>  </td>\n",
       "      <td> Chinese</td>\n",
       "      <td>   Hakka </td>\n",
       "      <td> hak</td>\n",
       "      <td> China</td>\n",
       "      <td> 13</td>\n",
       "      <td>  30.1</td>\n",
       "    </tr>\n",
       "    <tr>\n",
       "      <th>3</th>\n",
       "      <td>  </td>\n",
       "      <td> Chinese</td>\n",
       "      <td> Huizhou </td>\n",
       "      <td> czh</td>\n",
       "      <td> China</td>\n",
       "      <td>  1</td>\n",
       "      <td>  4.60</td>\n",
       "    </tr>\n",
       "    <tr>\n",
       "      <th>4</th>\n",
       "      <td>  </td>\n",
       "      <td> Chinese</td>\n",
       "      <td>   Jinyu </td>\n",
       "      <td> cjy</td>\n",
       "      <td> China</td>\n",
       "      <td>  1</td>\n",
       "      <td>  45.0</td>\n",
       "    </tr>\n",
       "  </tbody>\n",
       "</table>\n",
       "</div>"
      ],
      "text/plain": [
       "  num   family   variety code  place numCountries speakers\n",
       "0   1  Chinese            zho  China           33    1,197\n",
       "1      Chinese      Gan   gan  China            1     20.6\n",
       "2      Chinese    Hakka   hak  China           13     30.1\n",
       "3      Chinese  Huizhou   czh  China            1     4.60\n",
       "4      Chinese    Jinyu   cjy  China            1     45.0"
      ]
     },
     "execution_count": 9,
     "metadata": {},
     "output_type": "execute_result"
    }
   ],
   "source": [
    "df.head()"
   ]
  },
  {
   "cell_type": "code",
   "execution_count": 52,
   "metadata": {
    "collapsed": false
   },
   "outputs": [
    {
     "name": "stdout",
     "output_type": "stream",
     "text": [
      "<class 'pandas.core.frame.DataFrame'>\n",
      "Int64Index: 70 entries, 0 to 69\n",
      "Data columns (total 7 columns):\n",
      "num             70 non-null object\n",
      "family          70 non-null object\n",
      "variety         70 non-null object\n",
      "code            70 non-null object\n",
      "place           70 non-null object\n",
      "numCountries    70 non-null int64\n",
      "speakers        70 non-null object\n",
      "dtypes: int64(1), object(6)\n",
      "memory usage: 4.4+ KB\n"
     ]
    }
   ],
   "source": [
    "df.info()"
   ]
  },
  {
   "cell_type": "code",
   "execution_count": 106,
   "metadata": {
    "collapsed": false
   },
   "outputs": [],
   "source": [
    "df.numCountries = df.numCountries.astype('int')\n",
    "df.speakers = df.speakers.str.replace(',', '')\n",
    "df.speakers = df.speakers.astype('float')"
   ]
  },
  {
   "cell_type": "code",
   "execution_count": 107,
   "metadata": {
    "collapsed": false
   },
   "outputs": [
    {
     "name": "stdout",
     "output_type": "stream",
     "text": [
      "<class 'pandas.core.frame.DataFrame'>\n",
      "Int64Index: 70 entries, 0 to 69\n",
      "Data columns (total 7 columns):\n",
      "num             70 non-null object\n",
      "family          70 non-null object\n",
      "variety         70 non-null object\n",
      "code            70 non-null object\n",
      "place           70 non-null object\n",
      "numCountries    70 non-null int64\n",
      "speakers        70 non-null float64\n",
      "dtypes: float64(1), int64(1), object(5)\n",
      "memory usage: 4.4+ KB\n"
     ]
    }
   ],
   "source": [
    "df.info()"
   ]
  },
  {
   "cell_type": "code",
   "execution_count": 108,
   "metadata": {
    "collapsed": false
   },
   "outputs": [
    {
     "data": {
      "text/html": [
       "<div style=\"max-height:1000px;max-width:1500px;overflow:auto;\">\n",
       "<table border=\"1\" class=\"dataframe\">\n",
       "  <thead>\n",
       "    <tr style=\"text-align: right;\">\n",
       "      <th></th>\n",
       "      <th>num</th>\n",
       "      <th>family</th>\n",
       "      <th>variety</th>\n",
       "      <th>code</th>\n",
       "      <th>place</th>\n",
       "      <th>numCountries</th>\n",
       "      <th>speakers</th>\n",
       "    </tr>\n",
       "  </thead>\n",
       "  <tbody>\n",
       "    <tr>\n",
       "      <th>0 </th>\n",
       "      <td> 1</td>\n",
       "      <td> Chinese</td>\n",
       "      <td>           </td>\n",
       "      <td> zho</td>\n",
       "      <td> China</td>\n",
       "      <td> 33</td>\n",
       "      <td> 1197.00</td>\n",
       "    </tr>\n",
       "    <tr>\n",
       "      <th>1 </th>\n",
       "      <td>  </td>\n",
       "      <td> Chinese</td>\n",
       "      <td>       Gan </td>\n",
       "      <td> gan</td>\n",
       "      <td> China</td>\n",
       "      <td>  1</td>\n",
       "      <td>   20.60</td>\n",
       "    </tr>\n",
       "    <tr>\n",
       "      <th>2 </th>\n",
       "      <td>  </td>\n",
       "      <td> Chinese</td>\n",
       "      <td>     Hakka </td>\n",
       "      <td> hak</td>\n",
       "      <td> China</td>\n",
       "      <td> 13</td>\n",
       "      <td>   30.10</td>\n",
       "    </tr>\n",
       "    <tr>\n",
       "      <th>3 </th>\n",
       "      <td>  </td>\n",
       "      <td> Chinese</td>\n",
       "      <td>   Huizhou </td>\n",
       "      <td> czh</td>\n",
       "      <td> China</td>\n",
       "      <td>  1</td>\n",
       "      <td>    4.60</td>\n",
       "    </tr>\n",
       "    <tr>\n",
       "      <th>4 </th>\n",
       "      <td>  </td>\n",
       "      <td> Chinese</td>\n",
       "      <td>     Jinyu </td>\n",
       "      <td> cjy</td>\n",
       "      <td> China</td>\n",
       "      <td>  1</td>\n",
       "      <td>   45.00</td>\n",
       "    </tr>\n",
       "    <tr>\n",
       "      <th>5 </th>\n",
       "      <td>  </td>\n",
       "      <td> Chinese</td>\n",
       "      <td>  Mandarin </td>\n",
       "      <td> cmn</td>\n",
       "      <td> China</td>\n",
       "      <td> 12</td>\n",
       "      <td>  848.00</td>\n",
       "    </tr>\n",
       "    <tr>\n",
       "      <th>6 </th>\n",
       "      <td>  </td>\n",
       "      <td> Chinese</td>\n",
       "      <td>   Min Bei </td>\n",
       "      <td> mnp</td>\n",
       "      <td> China</td>\n",
       "      <td>  2</td>\n",
       "      <td>   10.30</td>\n",
       "    </tr>\n",
       "    <tr>\n",
       "      <th>7 </th>\n",
       "      <td>  </td>\n",
       "      <td> Chinese</td>\n",
       "      <td>  Min Dong </td>\n",
       "      <td> cdo</td>\n",
       "      <td> China</td>\n",
       "      <td>  6</td>\n",
       "      <td>    9.12</td>\n",
       "    </tr>\n",
       "    <tr>\n",
       "      <th>8 </th>\n",
       "      <td>  </td>\n",
       "      <td> Chinese</td>\n",
       "      <td>   Min Nan </td>\n",
       "      <td> nan</td>\n",
       "      <td> China</td>\n",
       "      <td> 10</td>\n",
       "      <td>   46.60</td>\n",
       "    </tr>\n",
       "    <tr>\n",
       "      <th>9 </th>\n",
       "      <td>  </td>\n",
       "      <td> Chinese</td>\n",
       "      <td> Min Zhong </td>\n",
       "      <td> czo</td>\n",
       "      <td> China</td>\n",
       "      <td>  1</td>\n",
       "      <td>    3.10</td>\n",
       "    </tr>\n",
       "    <tr>\n",
       "      <th>10</th>\n",
       "      <td>  </td>\n",
       "      <td> Chinese</td>\n",
       "      <td>   Pu-Xian </td>\n",
       "      <td> cpx</td>\n",
       "      <td> China</td>\n",
       "      <td>  3</td>\n",
       "      <td>    2.56</td>\n",
       "    </tr>\n",
       "    <tr>\n",
       "      <th>11</th>\n",
       "      <td>  </td>\n",
       "      <td> Chinese</td>\n",
       "      <td>        Wu </td>\n",
       "      <td> wuu</td>\n",
       "      <td> China</td>\n",
       "      <td>  1</td>\n",
       "      <td>   77.20</td>\n",
       "    </tr>\n",
       "    <tr>\n",
       "      <th>12</th>\n",
       "      <td>  </td>\n",
       "      <td> Chinese</td>\n",
       "      <td>     Xiang </td>\n",
       "      <td> hsn</td>\n",
       "      <td> China</td>\n",
       "      <td>  1</td>\n",
       "      <td>   36.00</td>\n",
       "    </tr>\n",
       "    <tr>\n",
       "      <th>13</th>\n",
       "      <td>  </td>\n",
       "      <td> Chinese</td>\n",
       "      <td>       Yue </td>\n",
       "      <td> yue</td>\n",
       "      <td> China</td>\n",
       "      <td> 10</td>\n",
       "      <td>   62.20</td>\n",
       "    </tr>\n",
       "  </tbody>\n",
       "</table>\n",
       "</div>"
      ],
      "text/plain": [
       "   num   family     variety code  place  numCountries  speakers\n",
       "0    1  Chinese              zho  China            33   1197.00\n",
       "1       Chinese        Gan   gan  China             1     20.60\n",
       "2       Chinese      Hakka   hak  China            13     30.10\n",
       "3       Chinese    Huizhou   czh  China             1      4.60\n",
       "4       Chinese      Jinyu   cjy  China             1     45.00\n",
       "5       Chinese   Mandarin   cmn  China            12    848.00\n",
       "6       Chinese    Min Bei   mnp  China             2     10.30\n",
       "7       Chinese   Min Dong   cdo  China             6      9.12\n",
       "8       Chinese    Min Nan   nan  China            10     46.60\n",
       "9       Chinese  Min Zhong   czo  China             1      3.10\n",
       "10      Chinese    Pu-Xian   cpx  China             3      2.56\n",
       "11      Chinese         Wu   wuu  China             1     77.20\n",
       "12      Chinese      Xiang   hsn  China             1     36.00\n",
       "13      Chinese        Yue   yue  China            10     62.20"
      ]
     },
     "execution_count": 108,
     "metadata": {},
     "output_type": "execute_result"
    }
   ],
   "source": [
    "df[df['family']=='Chinese']"
   ]
  },
  {
   "cell_type": "code",
   "execution_count": 141,
   "metadata": {
    "collapsed": false
   },
   "outputs": [],
   "source": [
    "main = {}\n",
    "main[\"name\"] = \"langs\"\n",
    "main_children = []\n",
    "for fam in list(set(df.family.values)):\n",
    "    current_fam = df[df.family==fam]\n",
    "    varities = [v for v in current_fam.variety.values if len(v) > 0]\n",
    "    children = []\n",
    "    for v in varities:\n",
    "        children.append({\"name\":fam+', '+v.strip(), \"size\": float(df[df.variety==v].speakers.values)})\n",
    "    if len(varities) == 0:\n",
    "        children.append({\"name\":fam, \"size\": float(df[df.family==fam].speakers.values)})\n",
    "    family_dict = {\"name\": fam, \"children\": children}\n",
    "    main_children.append(family_dict)\n",
    "main[\"children\"] = main_children"
   ]
  },
  {
   "cell_type": "code",
   "execution_count": 142,
   "metadata": {
    "collapsed": false
   },
   "outputs": [
    {
     "data": {
      "text/plain": [
       "{'children': [{'children': [{'name': 'Telugu', 'size': 74.0}],\n",
       "   'name': 'Telugu'},\n",
       "  {'children': [{'name': 'Turkish', 'size': 70.9}], 'name': 'Turkish'},\n",
       "  {'children': [{'name': 'Marathi', 'size': 71.8}], 'name': 'Marathi'},\n",
       "  {'children': [{'name': 'English', 'size': 335.0}], 'name': 'English'},\n",
       "  {'children': [{'name': 'Pahari-Potwari', 'size': 2.5}],\n",
       "   'name': 'Pahari-Potwari'},\n",
       "  {'children': [{'name': 'Hindi', 'size': 260.0}], 'name': 'Hindi'},\n",
       "  {'children': [{'name': 'Korean', 'size': 77.2}], 'name': 'Korean'},\n",
       "  {'children': [{'name': 'Saraiki', 'size': 20.1}], 'name': 'Saraiki'},\n",
       "  {'children': [{'name': 'Indonesian', 'size': 23.2}], 'name': 'Indonesian'},\n",
       "  {'children': [{'name': 'Vietnamese', 'size': 67.8}], 'name': 'Vietnamese'},\n",
       "  {'children': [{'name': 'Malay, Central', 'size': 1.59},\n",
       "    {'name': 'Malay, Jambi', 'size': 1.0},\n",
       "    {'name': 'Malay, Kedah', 'size': 2.6},\n",
       "    {'name': 'Malay, Pattani', 'size': 1.0}],\n",
       "   'name': 'Malay'},\n",
       "  {'children': [{'name': 'French', 'size': 75.9}], 'name': 'French'},\n",
       "  {'children': [{'name': 'Dari', 'size': 9.6}], 'name': 'Dari'},\n",
       "  {'children': [{'name': 'Bengali', 'size': 189.0}], 'name': 'Bengali'},\n",
       "  {'children': [{'name': 'Lahnda', 'size': 88.7}], 'name': 'Lahnda'},\n",
       "  {'children': [{'name': 'Italian', 'size': 63.8}], 'name': 'Italian'},\n",
       "  {'children': [{'name': 'Tamil', 'size': 68.8}], 'name': 'Tamil'},\n",
       "  {'children': [{'name': 'Banjar', 'size': 3.5}], 'name': 'Banjar'},\n",
       "  {'children': [{'name': 'Punjabi, Western', 'size': 62.6}],\n",
       "   'name': 'Punjabi'},\n",
       "  {'children': [{'name': 'Minangkabau', 'size': 5.53}], 'name': 'Minangkabau'},\n",
       "  {'children': [{'name': 'Musi', 'size': 3.1}], 'name': 'Musi'},\n",
       "  {'children': [{'name': 'Russian', 'size': 166.0}], 'name': 'Russian'},\n",
       "  {'children': [{'name': 'Javanese', 'size': 84.3}], 'name': 'Javanese'},\n",
       "  {'children': [{'name': 'Hindko, Northern', 'size': 1.88}], 'name': 'Hindko'},\n",
       "  {'children': [{'name': 'Portuguese', 'size': 203.0}], 'name': 'Portuguese'},\n",
       "  {'children': [{'name': 'Chinese, Gan', 'size': 20.6},\n",
       "    {'name': 'Chinese, Hakka', 'size': 30.1},\n",
       "    {'name': 'Chinese, Huizhou', 'size': 4.6},\n",
       "    {'name': 'Chinese, Jinyu', 'size': 45.0},\n",
       "    {'name': 'Chinese, Mandarin', 'size': 848.0},\n",
       "    {'name': 'Chinese, Min Bei', 'size': 10.3},\n",
       "    {'name': 'Chinese, Min Dong', 'size': 9.12},\n",
       "    {'name': 'Chinese, Min Nan', 'size': 46.6},\n",
       "    {'name': 'Chinese, Min Zhong', 'size': 3.1},\n",
       "    {'name': 'Chinese, Pu-Xian', 'size': 2.56},\n",
       "    {'name': 'Chinese, Wu', 'size': 77.2},\n",
       "    {'name': 'Chinese, Xiang', 'size': 36.0},\n",
       "    {'name': 'Chinese, Yue', 'size': 62.2}],\n",
       "   'name': 'Chinese'},\n",
       "  {'children': [{'name': 'German, Standard', 'size': 78.1}], 'name': 'German'},\n",
       "  {'children': [{'name': 'Japanese', 'size': 128.0}], 'name': 'Japanese'},\n",
       "  {'children': [{'name': 'Persian, Iranian', 'size': 47.4}],\n",
       "   'name': 'Persian'},\n",
       "  {'children': [{'name': 'Spanish', 'size': 399.0}], 'name': 'Spanish'},\n",
       "  {'children': [{'name': 'Urdu', 'size': 64.0}], 'name': 'Urdu'},\n",
       "  {'children': [{'name': 'Arabic, Algerian Spoken', 'size': 26.7},\n",
       "    {'name': 'Arabic, Chadian Spoken', 'size': 1.14},\n",
       "    {'name': 'Arabic, Eastern Egyptian Bedawi Spoken', 'size': 1.69},\n",
       "    {'name': 'Arabic, Egyptian Spoken', 'size': 55.0},\n",
       "    {'name': 'Arabic, Gulf Spoken', 'size': 5.34},\n",
       "    {'name': 'Arabic, Hijazi Spoken', 'size': 6.02},\n",
       "    {'name': 'Arabic, Libyan Spoken', 'size': 4.32},\n",
       "    {'name': 'Arabic, Mesopotamian Spoken', 'size': 15.1},\n",
       "    {'name': 'Arabic, Moroccan Spoken', 'size': 21.0},\n",
       "    {'name': 'Arabic, Najdi Spoken', 'size': 9.87},\n",
       "    {'name': 'Arabic, North Levantine Spoken', 'size': 14.8},\n",
       "    {'name': 'Arabic, North Mesopotamian Spoken', 'size': 6.3},\n",
       "    {'name': 'Arabic, Omani Spoken', 'size': 1.09},\n",
       "    {'name': 'Arabic, Sa\\xe2\\x80\\x99idi Spoken', 'size': 19.0},\n",
       "    {'name': 'Arabic, Sanaani Spoken', 'size': 7.6},\n",
       "    {'name': 'Arabic, South Levantine Spoken', 'size': 6.47},\n",
       "    {'name': 'Arabic, Sudanese Spoken', 'size': 16.9},\n",
       "    {'name': 'Arabic, Ta\\xe2\\x80\\x99izzi-Adeni Spoken', 'size': 7.08},\n",
       "    {'name': 'Arabic, Tunisian Spoken', 'size': 11.2}],\n",
       "   'name': 'Arabic'}],\n",
       " 'name': 'langs'}"
      ]
     },
     "execution_count": 142,
     "metadata": {},
     "output_type": "execute_result"
    }
   ],
   "source": [
    "main"
   ]
  },
  {
   "cell_type": "code",
   "execution_count": 143,
   "metadata": {
    "collapsed": false
   },
   "outputs": [],
   "source": [
    "with open('./stats.json', 'wb') as fp:\n",
    "    json.dump(main, fp)\n",
    "fp.close()"
   ]
  },
  {
   "cell_type": "code",
   "execution_count": 144,
   "metadata": {
    "collapsed": false
   },
   "outputs": [
    {
     "name": "stdout",
     "output_type": "stream",
     "text": [
      "Untitled.ipynb  ethnologue.txt  langstats.json  stats.json      style.css       treemap.html\r\n",
      "\u001b[34md3\u001b[m\u001b[m/             flare.json      numlangs.json   stats.txt       transform.py\r\n"
     ]
    }
   ],
   "source": [
    "ls"
   ]
  },
  {
   "cell_type": "code",
   "execution_count": null,
   "metadata": {
    "collapsed": true
   },
   "outputs": [],
   "source": []
  },
  {
   "cell_type": "code",
   "execution_count": null,
   "metadata": {
    "collapsed": true
   },
   "outputs": [],
   "source": []
  }
 ],
 "metadata": {
  "kernelspec": {
   "display_name": "Python 2",
   "language": "python",
   "name": "python2"
  },
  "language_info": {
   "codemirror_mode": {
    "name": "ipython",
    "version": 2
   },
   "file_extension": ".py",
   "mimetype": "text/x-python",
   "name": "python",
   "nbconvert_exporter": "python",
   "pygments_lexer": "ipython2",
   "version": "2.7.5"
  }
 },
 "nbformat": 4,
 "nbformat_minor": 0
}
